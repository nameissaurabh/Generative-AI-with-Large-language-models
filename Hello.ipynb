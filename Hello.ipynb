{
 "cells": [
  {
   "cell_type": "code",
   "execution_count": null,
   "id": "056b9623",
   "metadata": {
    "papermill": {
     "duration": 0.002672,
     "end_time": "2024-08-06T11:11:43.054851",
     "exception": false,
     "start_time": "2024-08-06T11:11:43.052179",
     "status": "completed"
    },
    "tags": []
   },
   "outputs": [],
   "source": []
  },
  {
   "cell_type": "code",
   "execution_count": null,
   "id": "4e106cd6",
   "metadata": {
    "papermill": {
     "duration": 0.001952,
     "end_time": "2024-08-06T11:11:43.059260",
     "exception": false,
     "start_time": "2024-08-06T11:11:43.057308",
     "status": "completed"
    },
    "tags": []
   },
   "outputs": [],
   "source": []
  },
  {
   "cell_type": "code",
   "execution_count": null,
   "id": "87fd267e",
   "metadata": {
    "papermill": {
     "duration": 0.002033,
     "end_time": "2024-08-06T11:11:43.063450",
     "exception": false,
     "start_time": "2024-08-06T11:11:43.061417",
     "status": "completed"
    },
    "tags": []
   },
   "outputs": [],
   "source": []
  },
  {
   "cell_type": "code",
   "execution_count": 1,
   "id": "b07c2d8e",
   "metadata": {
    "_cell_guid": "b1076dfc-b9ad-4769-8c92-a6c4dae69d19",
    "_uuid": "8f2839f25d086af736a60e9eeb907d3b93b6e0e5",
    "execution": {
     "iopub.execute_input": "2024-08-06T11:11:43.069869Z",
     "iopub.status.busy": "2024-08-06T11:11:43.069408Z",
     "iopub.status.idle": "2024-08-06T11:11:43.085591Z",
     "shell.execute_reply": "2024-08-06T11:11:43.084609Z"
    },
    "papermill": {
     "duration": 0.022551,
     "end_time": "2024-08-06T11:11:43.088148",
     "exception": false,
     "start_time": "2024-08-06T11:11:43.065597",
     "status": "completed"
    },
    "tags": []
   },
   "outputs": [],
   "source": [
    "import multiprocessing as mp\n",
    "# Set start method to 'spawn'\n",
    "mp.set_start_method('spawn', force=True)"
   ]
  }
 ],
 "metadata": {
  "kaggle": {
   "accelerator": "none",
   "dataSources": [],
   "isGpuEnabled": false,
   "isInternetEnabled": true,
   "language": "python",
   "sourceType": "notebook"
  },
  "kernelspec": {
   "display_name": "Python 3",
   "language": "python",
   "name": "python3"
  },
  "language_info": {
   "codemirror_mode": {
    "name": "ipython",
    "version": 3
   },
   "file_extension": ".py",
   "mimetype": "text/x-python",
   "name": "python",
   "nbconvert_exporter": "python",
   "pygments_lexer": "ipython3",
   "version": "3.10.13"
  },
  "papermill": {
   "default_parameters": {},
   "duration": 3.68125,
   "end_time": "2024-08-06T11:11:43.510765",
   "environment_variables": {},
   "exception": null,
   "input_path": "__notebook__.ipynb",
   "output_path": "__notebook__.ipynb",
   "parameters": {},
   "start_time": "2024-08-06T11:11:39.829515",
   "version": "2.5.0"
  }
 },
 "nbformat": 4,
 "nbformat_minor": 5
}
